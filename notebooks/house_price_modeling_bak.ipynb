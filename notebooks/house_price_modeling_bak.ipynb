{
 "cells": [
  {
   "cell_type": "markdown",
   "id": "1ad4555e",
   "metadata": {},
   "source": [
    "# 🏠 House Price Modeling Notebook\n",
    "This notebook performs EDA and builds a linear regression model to predict house prices."
   ]
  },
  {
   "cell_type": "code",
   "execution_count": null,
   "id": "7545f36d",
   "metadata": {},
   "outputs": [],
   "source": [
    "import pandas as pd\n",
    "import matplotlib.pyplot as plt\n",
    "import seaborn as sns\n",
    "from sklearn.linear_model import LinearRegression\n",
    "from sklearn.model_selection import train_test_split\n",
    "from sklearn.metrics import mean_squared_error, r2_score\n",
    "\n",
    "sns.set(style='whitegrid')\n",
    "\n",
    "# Load dataset\n",
    "df = pd.read_csv('../data/raw/house_data.csv')\n",
    "df.head()"
   ]
  },
  {
   "cell_type": "code",
   "execution_count": null,
   "id": "d59eac81",
   "metadata": {},
   "outputs": [],
   "source": [
    "# Dataset overview\n",
    "print('Dataset shape:', df.shape)\n",
    "print('\\nMissing values:\\n', df.isnull().sum())\n",
    "df.describe()"
   ]
  },
  {
   "cell_type": "code",
   "execution_count": null,
   "id": "90ceefb7",
   "metadata": {},
   "outputs": [],
   "source": [
    "# Visualizations\n",
    "fig, axes = plt.subplots(2, 2, figsize=(16, 12))\n",
    "\n",
    "# Price distribution\n",
    "sns.histplot(df['price'], bins=20, kde=True, ax=axes[0, 0])\n",
    "axes[0, 0].set_title('Distribution of House Prices')\n",
    "\n",
    "# Price vs. Square Footage\n",
    "sns.scatterplot(data=df, x='sqft', y='price', hue='bedrooms', ax=axes[0, 1])\n",
    "axes[0, 1].set_title('Price vs. Square Footage')\n",
    "\n",
    "# Average price by location\n",
    "avg_price_location = df.groupby('location')['price'].mean().sort_values()\n",
    "sns.barplot(x=avg_price_location.values, y=avg_price_location.index, ax=axes[1, 0])\n",
    "axes[1, 0].set_title('Average Price by Location')\n",
    "\n",
    "# Price by condition\n",
    "sns.boxplot(data=df, x='condition', y='price', ax=axes[1, 1])\n",
    "axes[1, 1].set_title('Price by House Condition')\n",
    "\n",
    "plt.tight_layout()\n",
    "plt.show()"
   ]
  },
  {
   "cell_type": "code",
   "execution_count": null,
   "id": "e9078e82",
   "metadata": {},
   "outputs": [],
   "source": [
    "# Linear Regression Modeling\n",
    "X = df[['sqft', 'bedrooms', 'bathrooms']]\n",
    "y = df['price']\n",
    "\n",
    "X_train, X_test, y_train, y_test = train_test_split(X, y, test_size=0.2, random_state=42)\n",
    "\n",
    "model = LinearRegression()\n",
    "model.fit(X_train, y_train)\n",
    "\n",
    "y_pred = model.predict(X_test)\n",
    "\n",
    "print('Intercept:', model.intercept_)\n",
    "print('Coefficients:', list(zip(X.columns, model.coef_)))"
   ]
  },
  {
   "cell_type": "code",
   "execution_count": null,
   "id": "63bd4380",
   "metadata": {},
   "outputs": [],
   "source": [
    "# Evaluation\n",
    "mse = mean_squared_error(y_test, y_pred)\n",
    "r2 = r2_score(y_test, y_pred)\n",
    "print(f'Mean Squared Error: ₹{mse:,.2f}')\n",
    "print(f'R² Score: {r2:.2f}')"
   ]
  }
 ],
 "metadata": {
  "kernelspec": {
   "display_name": "venv",
   "language": "python",
   "name": "python3"
  },
  "language_info": {
   "name": "python",
   "version": "3.11.9"
  }
 },
 "nbformat": 4,
 "nbformat_minor": 5
}
