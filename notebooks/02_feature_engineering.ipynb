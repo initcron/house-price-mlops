{
 "cells": [
  {
   "cell_type": "code",
   "execution_count": 20,
   "metadata": {},
   "outputs": [],
   "source": [
    "# Import necessary libraries\n",
    "import pandas as pd\n",
    "import numpy as np\n",
    "from datetime import datetime\n"
   ]
  },
  {
   "cell_type": "code",
   "execution_count": null,
   "metadata": {},
   "outputs": [],
   "source": [
    "\n",
    "# Load the cleaned data\n",
    "input_file = \"../data/processed/cleaned_house_data.csv\"  # Path to cleaned data\n",
    "output_file = \"../data/processed/data_scientists_features.csv\"  # Save human-readable features\n",
    "df = pd.read_csv(input_file)\n"
   ]
  }
 ],
 "metadata": {
  "language_info": {
   "name": "python"
  }
 },
 "nbformat": 4,
 "nbformat_minor": 2
}
