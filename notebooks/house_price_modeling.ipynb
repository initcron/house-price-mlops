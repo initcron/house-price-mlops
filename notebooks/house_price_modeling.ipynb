{
 "cells": [
  {
   "cell_type": "markdown",
   "id": "dbd31cec",
   "metadata": {},
   "source": [
    "# 🏠 House Price Modeling with Linear & Non-Linear Models\n",
    "This notebook includes EDA, a Linear Regression model, and a lightweight Random Forest model to predict house prices."
   ]
  },
  {
   "cell_type": "code",
   "execution_count": null,
   "id": "9e81e125",
   "metadata": {},
   "outputs": [
    {
     "ename": "ModuleNotFoundError",
     "evalue": "No module named 'seab'",
     "output_type": "error",
     "traceback": [
      "\u001b[31m---------------------------------------------------------------------------\u001b[39m",
      "\u001b[31mModuleNotFoundError\u001b[39m                       Traceback (most recent call last)",
      "\u001b[36mCell\u001b[39m\u001b[36m \u001b[39m\u001b[32mIn[6]\u001b[39m\u001b[32m, line 3\u001b[39m\n\u001b[32m      1\u001b[39m \u001b[38;5;28;01mimport\u001b[39;00m\u001b[38;5;250m \u001b[39m\u001b[34;01mpandas\u001b[39;00m\u001b[38;5;250m \u001b[39m\u001b[38;5;28;01mas\u001b[39;00m\u001b[38;5;250m \u001b[39m\u001b[34;01mpd\u001b[39;00m\n\u001b[32m      2\u001b[39m \u001b[38;5;28;01mimport\u001b[39;00m\u001b[38;5;250m \u001b[39m\u001b[34;01mmatplotlib\u001b[39;00m\u001b[34;01m.\u001b[39;00m\u001b[34;01mpyplot\u001b[39;00m\u001b[38;5;250m \u001b[39m\u001b[38;5;28;01mas\u001b[39;00m\u001b[38;5;250m \u001b[39m\u001b[34;01mplt\u001b[39;00m\n\u001b[32m----> \u001b[39m\u001b[32m3\u001b[39m \u001b[38;5;28;01mimport\u001b[39;00m\u001b[38;5;250m \u001b[39m\u001b[34;01mseab\u001b[39;00m\u001b[38;5;250m \u001b[39m\u001b[38;5;28;01mas\u001b[39;00m\u001b[38;5;250m \u001b[39m\u001b[34;01msns\u001b[39;00m\n\u001b[32m      4\u001b[39m \u001b[38;5;28;01mfrom\u001b[39;00m\u001b[38;5;250m \u001b[39m\u001b[34;01msklearn\u001b[39;00m\u001b[34;01m.\u001b[39;00m\u001b[34;01mlinear_model\u001b[39;00m\u001b[38;5;250m \u001b[39m\u001b[38;5;28;01mimport\u001b[39;00m LinearRegression\n\u001b[32m      5\u001b[39m \u001b[38;5;28;01mfrom\u001b[39;00m\u001b[38;5;250m \u001b[39m\u001b[34;01msklearn\u001b[39;00m\u001b[34;01m.\u001b[39;00m\u001b[34;01mensemble\u001b[39;00m\u001b[38;5;250m \u001b[39m\u001b[38;5;28;01mimport\u001b[39;00m RandomForestRegressor\n",
      "\u001b[31mModuleNotFoundError\u001b[39m: No module named 'seab'"
     ]
    }
   ],
   "source": [
    "import pandas as pd\n",
    "import matplotlib.pyplot as plt\n",
    "import seaborn as sns\n",
    "from sklearn.linear_model import LinearRegression\n",
    "from sklearn.ensemble import RandomForestRegressor\n",
    "from sklearn.model_selection import train_test_split\n",
    "from sklearn.metrics import mean_squared_error, r2_score\n",
    "import numpy as np\n",
    "\n",
    "sns.set(style='whitegrid')\n",
    "\n",
    "# Load dataset\n",
    "df = pd.read_csv('../data/raw/house_data.csv')\n",
    "df.head()"
   ]
  },
  {
   "cell_type": "code",
   "execution_count": null,
   "id": "6571ff6c",
   "metadata": {},
   "outputs": [],
   "source": [
    "# Dataset overview\n",
    "print('Dataset shape:', df.shape)\n",
    "print('\\nMissing values:\\n', df.isnull().sum())\n",
    "df.describe()"
   ]
  },
  {
   "cell_type": "code",
   "execution_count": null,
   "id": "61583aea",
   "metadata": {},
   "outputs": [],
   "source": [
    "# Visualizations\n",
    "fig, axes = plt.subplots(2, 2, figsize=(16, 12))\n",
    "\n",
    "# Price distribution\n",
    "sns.histplot(df['price'], bins=20, kde=True, ax=axes[0, 0])\n",
    "axes[0, 0].set_title('Distribution of House Prices')\n",
    "\n",
    "# Price vs. Square Footage\n",
    "sns.scatterplot(data=df, x='sqft', y='price', hue='bedrooms', ax=axes[0, 1])\n",
    "axes[0, 1].set_title('Price vs. Square Footage')\n",
    "\n",
    "# Average price by location\n",
    "avg_price_location = df.groupby('location')['price'].mean().sort_values()\n",
    "sns.barplot(x=avg_price_location.values, y=avg_price_location.index, ax=axes[1, 0])\n",
    "axes[1, 0].set_title('Average Price by Location')\n",
    "\n",
    "# Price by condition\n",
    "sns.boxplot(data=df, x='condition', y='price', ax=axes[1, 1])\n",
    "axes[1, 1].set_title('Price by House Condition')\n",
    "\n",
    "plt.tight_layout()\n",
    "plt.show()"
   ]
  },
  {
   "cell_type": "code",
   "execution_count": null,
   "id": "1ad30e8f",
   "metadata": {},
   "outputs": [],
   "source": [
    "# Linear Regression Modeling\n",
    "X = df[['sqft', 'bedrooms', 'bathrooms']]\n",
    "y = df['price']\n",
    "\n",
    "X_train, X_test, y_train, y_test = train_test_split(X, y, test_size=0.2, random_state=42)\n",
    "\n",
    "lr_model = LinearRegression()\n",
    "lr_model.fit(X_train, y_train)\n",
    "\n",
    "y_pred_lr = lr_model.predict(X_test)\n",
    "\n",
    "print('Linear Regression Intercept:', lr_model.intercept_)\n",
    "print('Linear Regression Coefficients:', list(zip(X.columns, lr_model.coef_)))"
   ]
  },
  {
   "cell_type": "code",
   "execution_count": null,
   "id": "1d16ebf9",
   "metadata": {},
   "outputs": [],
   "source": [
    "# Linear Regression Evaluation\n",
    "lr_mse = mean_squared_error(y_test, y_pred_lr)\n",
    "lr_rmse = np.sqrt(lr_mse)\n",
    "lr_r2 = r2_score(y_test, y_pred_lr)\n",
    "\n",
    "print(f'Linear Regression RMSE: ₹{lr_rmse:,.2f}')\n",
    "print(f'Linear Regression R² Score: {lr_r2:.2f}')"
   ]
  },
  {
   "cell_type": "code",
   "execution_count": null,
   "id": "edeccc01",
   "metadata": {},
   "outputs": [],
   "source": [
    "# Random Forest Regression (Lightweight, Non-linear)\n",
    "rf_model = RandomForestRegressor(n_estimators=100, max_depth=5, random_state=42)\n",
    "rf_model.fit(X_train, y_train)\n",
    "\n",
    "y_pred_rf = rf_model.predict(X_test)\n",
    "\n",
    "rf_mse = mean_squared_error(y_test, y_pred_rf)\n",
    "rf_rmse = np.sqrt(rf_mse)\n",
    "rf_r2 = r2_score(y_test, y_pred_rf)\n",
    "\n",
    "print(f'Random Forest RMSE: ₹{rf_rmse:,.2f}')\n",
    "print(f'Random Forest R² Score: {rf_r2:.2f}')"
   ]
  },
  {
   "cell_type": "markdown",
   "id": "362ea2dd",
   "metadata": {},
   "source": [
    "## ✅ Summary\n",
    "- RMSE is preferred over MSE for readability (₹ instead of ₹²).\n",
    "- Linear Regression is easy to interpret, but Random Forest performed better here.\n",
    "- **Random Forest RMSE: ~₹67k**, **R²: 0.94** — vs **Linear RMSE: ~₹81k**, **R²: 0.91**.\n",
    "- Great for MLOps learners to compare models and understand trade-offs.\n",
    "\n",
    "👉 Next steps: Add MLflow tracking, serve the model via FastAPI, or wrap it in Streamlit!"
   ]
  }
 ],
 "metadata": {
  "kernelspec": {
   "display_name": "Python 3",
   "language": "python",
   "name": "python3"
  }
 },
 "nbformat": 4,
 "nbformat_minor": 5
}
